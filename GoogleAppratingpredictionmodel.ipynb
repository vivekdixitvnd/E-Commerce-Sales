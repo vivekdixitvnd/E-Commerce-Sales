{
 "cells": [
  {
   "cell_type": "code",
   "execution_count": 1,
   "id": "54df35c9",
   "metadata": {},
   "outputs": [],
   "source": [
    "import pandas as pd\n",
    "import numpy as np"
   ]
  },
  {
   "cell_type": "code",
   "execution_count": 3,
   "id": "7d20c2a6",
   "metadata": {},
   "outputs": [],
   "source": [
    "##### 1.Load the data file using pandas. \n",
    "Google_app_rating=pd.read_csv(\"C:/Users/anesa/Downloads/googleplaystore.csv\")"
   ]
  },
  {
   "cell_type": "markdown",
   "id": "6228fee0",
   "metadata": {},
   "source": [
    "# Exploratory Data Analysis"
   ]
  },
  {
   "cell_type": "code",
   "execution_count": null,
   "id": "d272e7de",
   "metadata": {},
   "outputs": [],
   "source": [
    "Google_app_rating.isnull()\n",
    "Google_app_rating.isnull().sum(axis=0)"
   ]
  },
  {
   "cell_type": "code",
   "execution_count": 6,
   "id": "66f97bed",
   "metadata": {},
   "outputs": [],
   "source": [
    "Google_app_rating=Google_app_rating.dropna()"
   ]
  },
  {
   "cell_type": "code",
   "execution_count": 7,
   "id": "14ae8327",
   "metadata": {},
   "outputs": [],
   "source": [
    "####Converting the size to kb; \n",
    "# Removing \"varies with device\" values from the size column\n",
    "Google_app_rating=Google_app_rating.loc[Google_app_rating['Size']!=\"Varies with device\"]\n"
   ]
  },
  {
   "cell_type": "code",
   "execution_count": 8,
   "id": "350c2927",
   "metadata": {},
   "outputs": [],
   "source": [
    "#Extracting numeric value of size\n",
    "Google_app_rating['mb_availability'] = Google_app_rating.Size.str.find('M')"
   ]
  },
  {
   "cell_type": "code",
   "execution_count": 9,
   "id": "35da43ce",
   "metadata": {},
   "outputs": [],
   "source": [
    "Google_app_rating['size_in_numeric']=Google_app_rating.Size.str.replace(\"M\",'').str.replace(\"k\",'').astype('float32')\n"
   ]
  },
  {
   "cell_type": "code",
   "execution_count": 10,
   "id": "0c8713b5",
   "metadata": {},
   "outputs": [],
   "source": [
    "Google_app_rating['SizeinKb']=np.where(Google_app_rating.mb_availability>-1,(Google_app_rating.size_in_numeric*1000),Google_app_rating.size_in_numeric)\n"
   ]
  },
  {
   "cell_type": "code",
   "execution_count": 11,
   "id": "5ca29944",
   "metadata": {},
   "outputs": [],
   "source": [
    "#  Converting reviews column from obj to int data type\n",
    "Google_app_rating.Reviews=Google_app_rating.Reviews.astype('int32')"
   ]
  },
  {
   "cell_type": "code",
   "execution_count": 12,
   "id": "43e2775f",
   "metadata": {},
   "outputs": [
    {
     "name": "stderr",
     "output_type": "stream",
     "text": [
      "C:\\Users\\anesa\\AppData\\Local\\Temp/ipykernel_8520/575837102.py:4: FutureWarning: The default value of regex will change from True to False in a future version. In addition, single character regular expressions will *not* be treated as literal strings when regex=True.\n",
      "  Google_app_rating['Installs_num']=Google_app_rating.Installs.str.replace(\"+\",'').str.replace(\",\",'').astype('int32')\n"
     ]
    }
   ],
   "source": [
    "#### Installs field is currently stored as string and has values like 1,000,000+. \n",
    "        ### 1 Treat 1,000,000+ as 1,000,000\n",
    "        ### 2 remove ‘+’, ‘,’ from the field, convert it to integer\n",
    "Google_app_rating['Installs_num']=Google_app_rating.Installs.str.replace(\"+\",'').str.replace(\",\",'').astype('int32')\n",
    "Google_app_rating=Google_app_rating.drop(['Installs','Size','size_in_numeric'],axis=1)"
   ]
  },
  {
   "cell_type": "code",
   "execution_count": 14,
   "id": "a00f7d10",
   "metadata": {},
   "outputs": [
    {
     "name": "stderr",
     "output_type": "stream",
     "text": [
      "C:\\Users\\anesa\\AppData\\Local\\Temp/ipykernel_8520/2822569814.py:2: FutureWarning: The default value of regex will change from True to False in a future version. In addition, single character regular expressions will *not* be treated as literal strings when regex=True.\n",
      "  Google_app_rating['Priceindollar']=Google_app_rating.Price.str.replace(\"$\",'').astype('float32')\n"
     ]
    }
   ],
   "source": [
    "# Price field is a string and has $ symbol. Removing ‘$’ sign, and converting it to numeric.\n",
    "Google_app_rating['Priceindollar']=Google_app_rating.Price.str.replace(\"$\",'').astype('float32')"
   ]
  },
  {
   "cell_type": "code",
   "execution_count": null,
   "id": "84982a80",
   "metadata": {},
   "outputs": [],
   "source": [
    "''' Sanity checks:\n",
    "\n",
    "            1 Average rating should be between 1 and 5 as only these values are allowed on the play store. \n",
    "                Drop the rows that have a value outside this range.\n",
    "            2 Reviews should not be more than installs as only those who installed can review the app. If there are any \n",
    "                such records, drop them.\n",
    "            3 For free apps (type = “Free”), the price should not be >0.Drop any such rows.\n",
    "'''"
   ]
  },
  {
   "cell_type": "code",
   "execution_count": 15,
   "id": "232ce48d",
   "metadata": {},
   "outputs": [],
   "source": [
    "### 1 Average rating should be between 1 and 5 as only these values are allowed on the play store. Drop the rows that have a value outside this range.\n",
    "Google_app_rating=Google_app_rating[(Google_app_rating.Rating>=1) & (Google_app_rating.Rating<=5)]"
   ]
  },
  {
   "cell_type": "code",
   "execution_count": 16,
   "id": "47e3ba4a",
   "metadata": {},
   "outputs": [],
   "source": [
    "### 2 Reviews should not be more than installs as only those who installed can review the app.Dropping such records.\n",
    "Google_app_rating=Google_app_rating[Google_app_rating.Reviews<=Google_app_rating.Installs_num]\n"
   ]
  },
  {
   "cell_type": "markdown",
   "id": "e8a44914",
   "metadata": {},
   "source": [
    "# Performing univariate analysis: \n"
   ]
  },
  {
   "cell_type": "code",
   "execution_count": 17,
   "id": "1947f83c",
   "metadata": {},
   "outputs": [
    {
     "data": {
      "text/plain": [
       "{'whiskers': [<matplotlib.lines.Line2D at 0x259beae1820>,\n",
       "  <matplotlib.lines.Line2D at 0x259beae1af0>],\n",
       " 'caps': [<matplotlib.lines.Line2D at 0x259beae1e80>,\n",
       "  <matplotlib.lines.Line2D at 0x259beafb250>],\n",
       " 'boxes': [<matplotlib.lines.Line2D at 0x259beae13d0>],\n",
       " 'medians': [<matplotlib.lines.Line2D at 0x259beafb5e0>],\n",
       " 'fliers': [<matplotlib.lines.Line2D at 0x259beafb970>],\n",
       " 'means': []}"
      ]
     },
     "execution_count": 17,
     "metadata": {},
     "output_type": "execute_result"
    },
    {
     "data": {
      "image/png": "[encoded data removed]",
      "text/plain": [
       "<Figure size 432x288 with 1 Axes>"
      ]
     },
     "metadata": {
      "needs_background": "light"
     },
     "output_type": "display_data"
    }
   ],
   "source": [
    "## Boxplot for Price,\n",
    "\n",
    "import matplotlib.pyplot as plt\n",
    "import numpy as np\n",
    "plt.boxplot(Google_app_rating.Priceindollar)"
   ]
  },
  {
   "cell_type": "markdown",
   "id": "242e7351",
   "metadata": {},
   "source": [
    "Observation : \n",
    "From this observation, IQR =UpperLimit &LowerLimit\n",
    "and the  outliers could be price above 100$\n"
   ]
  },
  {
   "cell_type": "code",
   "execution_count": 18,
   "id": "6d547539",
   "metadata": {},
   "outputs": [
    {
     "name": "stdout",
     "output_type": "stream",
     "text": [
      "Q1:  109.0\n",
      "Q3:  109.0\n",
      "UpperLimit:  272.5\n",
      "LowerLimit:  -54.5\n",
      "IQR:  109.0\n"
     ]
    }
   ],
   "source": [
    "#Checking if the reviews have unusual values using Inter Quartile Range ?\n",
    "\n",
    "Q1 = np.percentile(Google_app_rating.Reviews,[25,75])[0]\n",
    "Q3 =np.percentile(Google_app_rating.Reviews,[25,75])[1]\n",
    "IQR= Q3=Q1\n",
    "UpperLimit = Q3+1.5*IQR\n",
    "LowerLimit = Q1-1.5*IQR\n",
    "print('Q1: ',+Q1)\n",
    "print('Q3: ',+Q3)\n",
    "print('UpperLimit: ',+UpperLimit)\n",
    "print('LowerLimit: ',+LowerLimit)\n",
    "print('IQR: ',+IQR)"
   ]
  },
  {
   "cell_type": "markdown",
   "id": "46d19dfb",
   "metadata": {},
   "source": [
    "Observation : \n",
    "Here, IQR =109 and Upperlimit is 272.5\n",
    "From the boxplot, we can see some values above the uperlimit.272.5\n",
    "these are outliers\n",
    "and the highest value is ~4.5e7 which is very high than IQR and UL\n",
    "This value is truly an outlier, because this huge value for revbiew doesnt seems to be right"
   ]
  },
  {
   "cell_type": "code",
   "execution_count": 19,
   "id": "04ea087f",
   "metadata": {},
   "outputs": [
    {
     "data": {
      "text/plain": [
       "(array([  17.,   18.,   39.,   72.,  132.,  408.,  781., 1406., 3212.,\n",
       "        1632.]),\n",
       " array([1. , 1.4, 1.8, 2.2, 2.6, 3. , 3.4, 3.8, 4.2, 4.6, 5. ]),\n",
       " <BarContainer object of 10 artists>)"
      ]
     },
     "execution_count": 19,
     "metadata": {},
     "output_type": "execute_result"
    },
    {
     "data": {
      "image/png": "[encoded data removed]",
      "text/plain": [
       "<Figure size 432x288 with 1 Axes>"
      ]
     },
     "metadata": {
      "needs_background": "light"
     },
     "output_type": "display_data"
    }
   ],
   "source": [
    "# 2. Histogram for Rating\n",
    "plt.hist(Google_app_rating.Rating)"
   ]
  },
  {
   "cell_type": "markdown",
   "id": "52880905",
   "metadata": {},
   "source": [
    "Observation :\n",
    "The 'rating' distribution is negatively skewed as the curve is more bended towards the higher ratings\n",
    "So the median of the ratings will be greater than the average rating.\n"
   ]
  },
  {
   "cell_type": "code",
   "execution_count": 21,
   "id": "d0a97e9c",
   "metadata": {},
   "outputs": [
    {
     "data": {
      "text/plain": [
       "(array([3245., 1398.,  991.,  606.,  449.,  325.,  226.,  161.,  117.,\n",
       "         199.]),\n",
       " array([8.500000e+00, 1.000765e+04, 2.000680e+04, 3.000595e+04,\n",
       "        4.000510e+04, 5.000425e+04, 6.000340e+04, 7.000255e+04,\n",
       "        8.000170e+04, 9.000085e+04, 1.000000e+05], dtype=float32),\n",
       " <BarContainer object of 10 artists>)"
      ]
     },
     "execution_count": 21,
     "metadata": {},
     "output_type": "execute_result"
    },
    {
     "data": {
      "image/png": "[encoded data removed]",
      "text/plain": [
       "<Figure size 432x288 with 1 Axes>"
      ]
     },
     "metadata": {
      "needs_background": "light"
     },
     "output_type": "display_data"
    }
   ],
   "source": [
    "# 3. Histogram for Size\n",
    "plt.hist(Google_app_rating.SizeinKb)"
   ]
  },
  {
   "cell_type": "markdown",
   "id": "40d62fc0",
   "metadata": {},
   "source": [
    "Observation :\n",
    "size less than 1mb is as outlier\n"
   ]
  },
  {
   "cell_type": "markdown",
   "id": "b657f032",
   "metadata": {},
   "source": [
    "# Outlier treatment: \n"
   ]
  },
  {
   "cell_type": "code",
   "execution_count": 23,
   "id": "23c1347a",
   "metadata": {},
   "outputs": [],
   "source": [
    "#1 Price: From the box plot, it seems like there are some apps with very high price. \n",
    "#A price of $200 for an application on the Play Store is very high and suspicious!Check out such records with very high price\n",
    "#deleting the records with apps priced above 200$\n",
    "Google_app_rating=Google_app_rating.loc[(Google_app_rating.Priceindollar<=200)]"
   ]
  },
  {
   "cell_type": "code",
   "execution_count": 24,
   "id": "96fa9a27",
   "metadata": {},
   "outputs": [],
   "source": [
    "#2 Reviews: Very few apps have very high number of reviews. These are all star apps that don’t help with the analysis and, in fact, will skew it.\n",
    "#Droping records having more than 2 million reviews.\n",
    "Google_app_rating=Google_app_rating.loc[(Google_app_rating.Reviews<2000000)]"
   ]
  },
  {
   "cell_type": "code",
   "execution_count": 25,
   "id": "27426f7f",
   "metadata": {},
   "outputs": [
    {
     "name": "stdout",
     "output_type": "stream",
     "text": [
      "Percentile 10\n",
      "[1000.]\n",
      "Percentile 25\n",
      "[10000.]\n",
      "Percentile 50\n",
      "[100000.]\n",
      "Percentile 70\n",
      "[1000000.]\n",
      "Percentile 90\n",
      "[10000000.]\n",
      "Percentile 95\n",
      "[10000000.]\n",
      "Percentile 99\n",
      "[50000000.]\n"
     ]
    }
   ],
   "source": [
    "#3 Installs:  There seems to be some outliers in this field too. \n",
    "#Apps having very high number of installs should be dropped from the analysis.\n",
    "#3.1 Find out the different percentiles – 10, 25, 50, 70, 90, 95, 99\n",
    "\n",
    "percentile=[10, 25, 50, 70, 90, 95, 99]\n",
    "for p in percentile:\n",
    "    percntle=np.percentile(Google_app_rating.Installs_num,[p])\n",
    "    print('Percentile',p)\n",
    "    print(percntle)"
   ]
  },
  {
   "cell_type": "code",
   "execution_count": 27,
   "id": "5b687b0c",
   "metadata": {},
   "outputs": [
    {
     "name": "stdout",
     "output_type": "stream",
     "text": [
      "P1=  [50.]\n",
      "P90=  [10000000.]\n"
     ]
    }
   ],
   "source": [
    "##3.2 Decide a threshold as cutoff for outlier \n",
    "#and drop records having values more than that\n",
    "''' the values falling below one Percentile p1\n",
    "and above 90 percentile P90 can be considered outliers  '''\n",
    "#droping values below 1 percentile and above 90 percentile\n",
    "P1=np.percentile(Google_app_rating.Installs_num,[1])\n",
    "P90=np.percentile(Google_app_rating.Installs_num,[90])\n",
    "\n",
    "print('P1= ',+P1)\n",
    "print('P90= ',+P90)"
   ]
  },
  {
   "cell_type": "code",
   "execution_count": 31,
   "id": "715022d7",
   "metadata": {},
   "outputs": [],
   "source": [
    "#droping values below 1 percentile and above 90 percentile\n",
    "Google_app_rating=Google_app_rating.loc[(Google_app_rating.Installs_num>=50)&(Google_app_rating.Installs_num<=10000000)]\n"
   ]
  },
  {
   "cell_type": "markdown",
   "id": "5387f5ec",
   "metadata": {},
   "source": [
    "# Bivariate analysis: \n"
   ]
  },
  {
   "cell_type": "code",
   "execution_count": 32,
   "id": "16aedae1",
   "metadata": {},
   "outputs": [
    {
     "data": {
      "text/plain": [
       "Text(0, 0.5, 'Priceindollar')"
      ]
     },
     "execution_count": 32,
     "metadata": {},
     "output_type": "execute_result"
    },
    {
     "data": {
      "image/png": "[encoded data removed]",
      "text/plain": [
       "<Figure size 432x288 with 1 Axes>"
      ]
     },
     "metadata": {
      "needs_background": "light"
     },
     "output_type": "display_data"
    }
   ],
   "source": [
    "# scatter plot/joinplot for Rating vs. Price\n",
    "plt.scatter(Google_app_rating.Rating,Google_app_rating.Priceindollar)\n",
    "plt.xlabel('Rating')\n",
    "plt.ylabel('Priceindollar')"
   ]
  },
  {
   "cell_type": "markdown",
   "id": "52804f47",
   "metadata": {},
   "source": [
    "Observation:\n",
    "The price of the app increses with the rating \n",
    "for approximately upto 4 to 4.5 star ratings after which, it is decreasing"
   ]
  },
  {
   "cell_type": "code",
   "execution_count": 34,
   "id": "bcdf0448",
   "metadata": {},
   "outputs": [
    {
     "data": {
      "text/plain": [
       "Text(0, 0.5, 'SizeinKb')"
      ]
     },
     "execution_count": 34,
     "metadata": {},
     "output_type": "execute_result"
    },
    {
     "data": {
      "image/png": "[encoded data removed]",
      "text/plain": [
       "<Figure size 432x288 with 1 Axes>"
      ]
     },
     "metadata": {
      "needs_background": "light"
     },
     "output_type": "display_data"
    }
   ],
   "source": [
    "## scatter plot/joinplot for Rating vs. Size\n",
    "plt.scatter(Google_app_rating.Rating,Google_app_rating.SizeinKb)\n",
    "plt.xlabel('Rating')\n",
    "plt.ylabel('SizeinKb')"
   ]
  },
  {
   "cell_type": "markdown",
   "id": "0cb4da2a",
   "metadata": {},
   "source": [
    "Observation:\n",
    "The heavier apps are mostly rated above3.5 , which means heavier apps are rated better.\n"
   ]
  },
  {
   "cell_type": "code",
   "execution_count": 35,
   "id": "dc3ce95b",
   "metadata": {},
   "outputs": [
    {
     "data": {
      "text/plain": [
       "Text(0, 0.5, 'Reviews')"
      ]
     },
     "execution_count": 35,
     "metadata": {},
     "output_type": "execute_result"
    },
    {
     "data": {
      "image/png": "[encoded data removed]",
      "text/plain": [
       "<Figure size 432x288 with 1 Axes>"
      ]
     },
     "metadata": {
      "needs_background": "light"
     },
     "output_type": "display_data"
    }
   ],
   "source": [
    "# scatter plot/joinplot for Rating vs. Reviews\n",
    "plt.scatter(Google_app_rating.Rating,Google_app_rating.Reviews)\n",
    "plt.xlabel('Rating')\n",
    "plt.ylabel('Reviews')"
   ]
  },
  {
   "cell_type": "markdown",
   "id": "7e810ad3",
   "metadata": {},
   "source": [
    "Observation:\n",
    "From the scatter plot, greater the number of reviews, greater the ratings"
   ]
  },
  {
   "cell_type": "code",
   "execution_count": 36,
   "id": "63dfd27a",
   "metadata": {},
   "outputs": [
    {
     "data": {
      "image/png": "[encoded data removed]",
      "text/plain": [
       "<Figure size 432x288 with 1 Axes>"
      ]
     },
     "metadata": {
      "needs_background": "light"
     },
     "output_type": "display_data"
    }
   ],
   "source": [
    "# boxplot for Rating vs. Content Rating\n",
    "Google_app_rating['ContentRating']=Google_app_rating['Content Rating']\n",
    "import seaborn as sns\n",
    "sns.boxplot(y=Google_app_rating.Rating,x=Google_app_rating.ContentRating)\n",
    "plt.show()"
   ]
  },
  {
   "cell_type": "markdown",
   "id": "c857647c",
   "metadata": {},
   "source": [
    "Adults only catagory have only higher number of Ratings (it has only limited records)\n",
    "the other catagories doesnt seem to have much unique pattern.Mostly all the catagory have an IQR~4.3\n",
    "Every one catagory seems to have many poor ratings\n",
    "\n"
   ]
  },
  {
   "cell_type": "code",
   "execution_count": 37,
   "id": "eea67c63",
   "metadata": {},
   "outputs": [
    {
     "data": {
      "image/png": "[encoded data removed]",
      "text/plain": [
       "<Figure size 432x288 with 1 Axes>"
      ]
     },
     "metadata": {
      "needs_background": "light"
     },
     "output_type": "display_data"
    }
   ],
   "source": [
    "#boxplot for Ratings vs. Category\n",
    "\n",
    "\n",
    "import seaborn as sns\n",
    "sns.boxplot(x=Google_app_rating.Category,y=Google_app_rating.Rating)\n",
    "plt.show()\n"
   ]
  },
  {
   "cell_type": "markdown",
   "id": "f7452536",
   "metadata": {},
   "source": [
    "Art & design,Educatioon,Events,entertainment,weather,libraries and demo have more number of good ratings (ratings above 3.5)\n",
    "than other Genres"
   ]
  },
  {
   "cell_type": "markdown",
   "id": "33e32196",
   "metadata": {},
   "source": [
    "# Data preprocessing\n"
   ]
  },
  {
   "cell_type": "code",
   "execution_count": 38,
   "id": "e02855b4",
   "metadata": {},
   "outputs": [],
   "source": [
    "inp1=Google_app_rating"
   ]
  },
  {
   "cell_type": "code",
   "execution_count": 39,
   "id": "f8c8824a",
   "metadata": {},
   "outputs": [],
   "source": [
    "## Reviews and Install have some values that are still relatively very high.Before building a linear regression model, we need to reduce the skew.\n",
    "#Apply log transformation (np.log1p) to Reviews and Installs.\n",
    "inp1.Reviews=np.log1p(inp1.Reviews)\n",
    "inp1.Installs_num=np.log1p(inp1.Installs_num)\n"
   ]
  },
  {
   "cell_type": "code",
   "execution_count": 40,
   "id": "6c4559ed",
   "metadata": {},
   "outputs": [],
   "source": [
    "##Drop columns App, Last Updated, Current Ver, and Android Ver. These variables are not useful for the task.\n",
    "inp1=inp1.drop(['App','Last Updated','Current Ver','Android Ver','Content Rating'],axis=1)"
   ]
  },
  {
   "cell_type": "code",
   "execution_count": 41,
   "id": "dc4a32f0",
   "metadata": {},
   "outputs": [
    {
     "data": {
      "text/plain": [
       "array(['ART_AND_DESIGN', 'AUTO_AND_VEHICLES', 'BEAUTY',\n",
       "       'BOOKS_AND_REFERENCE', 'BUSINESS', 'COMICS', 'COMMUNICATION',\n",
       "       'DATING', 'EDUCATION', 'ENTERTAINMENT', 'EVENTS', 'FAMILY',\n",
       "       'FINANCE', 'FOOD_AND_DRINK', 'GAME', 'HEALTH_AND_FITNESS',\n",
       "       'HOUSE_AND_HOME', 'LIBRARIES_AND_DEMO', 'LIFESTYLE',\n",
       "       'MAPS_AND_NAVIGATION', 'MEDICAL', 'NEWS_AND_MAGAZINES',\n",
       "       'PARENTING', 'PERSONALIZATION', 'PHOTOGRAPHY', 'PRODUCTIVITY',\n",
       "       'SHOPPING', 'SOCIAL', 'SPORTS', 'TOOLS', 'TRAVEL_AND_LOCAL',\n",
       "       'VIDEO_PLAYERS', 'WEATHER'], dtype=object)"
      ]
     },
     "execution_count": 41,
     "metadata": {},
     "output_type": "execute_result"
    }
   ],
   "source": [
    "##Get dummy columns for Category, Genres, and Content Rating. This needs to be done as the models do not understand categorical data, and all data should be numeric.\n",
    "#Dummy encoding is one way to convert character fields to numeric. Name of dataframe inp2.\n",
    "np.unique(inp1.Category)"
   ]
  },
  {
   "cell_type": "code",
   "execution_count": 43,
   "id": "a5a279b7",
   "metadata": {},
   "outputs": [],
   "source": [
    "inp2 = pd.get_dummies(inp1,prefix_sep='_',columns=['Category','Genres','ContentRating'])\n",
    "inp2=inp2.drop(['Type','Price'],axis=1)"
   ]
  },
  {
   "cell_type": "code",
   "execution_count": 46,
   "id": "67a15c8c",
   "metadata": {},
   "outputs": [],
   "source": [
    "## Train test split using 70-30 split. Naming the new dataframes df_train and df_test.\n",
    "x=inp2.drop('Rating',axis=1)\n",
    "y=inp2.Rating"
   ]
  },
  {
   "cell_type": "markdown",
   "id": "678633b0",
   "metadata": {},
   "source": [
    "# Regression Analysis"
   ]
  },
  {
   "cell_type": "code",
   "execution_count": 47,
   "id": "3a58e8fa",
   "metadata": {},
   "outputs": [],
   "source": [
    "from sklearn.linear_model import LinearRegression\n",
    "from sklearn.metrics import r2_score\n",
    "\n",
    "from sklearn.model_selection import train_test_split\n",
    "x_train, x_test, y_train, y_test =  train_test_split(x,y,test_size=.30)"
   ]
  },
  {
   "cell_type": "code",
   "execution_count": 48,
   "id": "21191aba",
   "metadata": {},
   "outputs": [],
   "source": [
    "df_test = pd.concat([x_test.reset_index(drop=True),y_test.reset_index(drop=True)],axis=1)\n",
    "df_train= pd.concat([x_train.reset_index(drop=True),y_train.reset_index(drop=True)],axis=1)\n"
   ]
  },
  {
   "cell_type": "markdown",
   "id": "85c4bf94",
   "metadata": {},
   "source": [
    " Model building"
   ]
  },
  {
   "cell_type": "code",
   "execution_count": 50,
   "id": "f597ab6c",
   "metadata": {},
   "outputs": [
    {
     "data": {
      "text/plain": [
       "array([ 1.73530959e-01,  3.16731783e-02, -3.59682534e-07, -1.48132418e-01,\n",
       "       -2.66381667e-03, -1.68839942e-01,  2.04819436e-02,  9.36111808e-02,\n",
       "        4.93120454e-02, -3.34836185e-02,  2.04714883e-01, -7.62799176e-02,\n",
       "       -1.21918084e-01, -4.80217323e-03, -5.52564619e-02,  1.80155012e-01,\n",
       "        5.95688325e-03, -3.38677188e-02, -5.79139396e-02,  2.02886466e-01,\n",
       "       -1.86481268e-02, -3.46692597e-02,  4.98987558e-02, -5.64080696e-02,\n",
       "       -8.00911012e-02, -3.73231830e-03, -3.81346111e-02,  6.77265568e-02,\n",
       "        4.23721676e-02, -6.74834184e-02, -4.56093486e-02, -2.23937042e-03,\n",
       "       -2.63719916e-02,  1.68485663e-01, -9.08871533e-02, -7.11369909e-02,\n",
       "        5.95362185e-03, -3.78156361e-03, -2.55492888e-01,  1.79919436e-02,\n",
       "       -3.14753406e-01, -1.28010491e-01,  1.19941591e-01, -2.85682935e-01,\n",
       "       -2.48305229e-01, -6.06841606e-02,  9.54930579e-12,  4.29060951e-01,\n",
       "        3.74582140e-01,  1.17928465e-01,  2.04819436e-02,  9.36111808e-02,\n",
       "       -3.43306979e-01,  5.41809653e-12,  3.22256766e-02,  5.97443083e-01,\n",
       "        4.93120454e-02,  4.02392739e-01, -3.34836185e-02, -4.26556819e-01,\n",
       "       -2.82679371e-01,  3.67169073e-11, -2.15728220e-01, -1.56657265e-01,\n",
       "       -1.84651023e-01,  3.04644411e-01,  1.59609320e-01,  1.47982470e-02,\n",
       "        3.97403952e-02, -1.51790454e-01, -2.94714897e-01,  4.99429780e-01,\n",
       "       -7.62799176e-02, -1.21918084e-01,  8.84622183e-02,  2.89300792e-01,\n",
       "        3.12805337e-13,  5.03150497e-01,  1.78406362e-01,  2.69470407e-01,\n",
       "        1.60801487e-01, -1.84971219e-01,  2.12453791e-01,  1.93207980e-01,\n",
       "        2.48094999e-01,  1.62241951e-01, -4.05464940e-03, -1.22719873e-01,\n",
       "        2.06327410e-02,  1.42645801e-01,  4.50171735e-01, -4.96364061e-12,\n",
       "       -1.26431482e-01, -3.41550455e-01,  1.80155012e-01, -3.38677188e-02,\n",
       "       -5.79139396e-02, -1.86481269e-02, -4.43242843e-01,  7.64999175e-13,\n",
       "       -3.46692597e-02,  4.98987558e-02, -5.64080696e-02, -1.98996375e-12,\n",
       "       -8.00911012e-02, -3.73231831e-03, -5.22965502e-01,  3.37698195e-01,\n",
       "        5.15060197e-01, -3.81346111e-02,  2.49422086e-01, -2.92105807e-01,\n",
       "       -2.08491797e-01,  3.18902075e-01,  4.23721676e-02, -6.74834184e-02,\n",
       "       -4.56093486e-02, -1.79909533e-02,  1.41656033e-01,  1.87193813e-01,\n",
       "        6.21272566e-02,  6.93889390e-18, -3.66572905e-01,  3.22456931e-02,\n",
       "        6.12509517e-01, -1.56495528e-01, -3.02161593e-02,  0.00000000e+00,\n",
       "       -1.93368331e-01, -2.23937044e-03, -1.12659486e-01,  1.02893697e-01,\n",
       "       -2.85622064e-01, -1.90225023e-01, -2.63719916e-02, -2.33335189e-01,\n",
       "       -2.29783357e-01, -2.06656954e-01,  3.35824979e-01, -1.98243504e-01,\n",
       "        5.09918167e-01, -9.08871533e-02, -7.11369908e-02,  0.00000000e+00,\n",
       "       -3.64108210e-01, -2.22191518e-01, -3.10451329e-01, -1.70780641e-01,\n",
       "       -3.78156362e-03, -1.23206797e-01,  2.04268412e-01, -3.07195388e-02,\n",
       "       -5.54320992e-02, -4.48518220e-02, -5.05481983e-02, -2.27167541e-02])"
      ]
     },
     "execution_count": 50,
     "metadata": {},
     "output_type": "execute_result"
    }
   ],
   "source": [
    "R2 = LinearRegression().fit(x_train,y_train)\n",
    "R2.coef_"
   ]
  },
  {
   "cell_type": "code",
   "execution_count": 51,
   "id": "c5e5eeb4",
   "metadata": {},
   "outputs": [
    {
     "data": {
      "text/plain": [
       "4.58607871743536"
      ]
     },
     "execution_count": 51,
     "metadata": {},
     "output_type": "execute_result"
    }
   ],
   "source": [
    "R2.intercept_\n"
   ]
  },
  {
   "cell_type": "code",
   "execution_count": 52,
   "id": "64eb02d6",
   "metadata": {},
   "outputs": [
    {
     "data": {
      "text/html": [
       "<div>\n",
       "<style scoped>\n",
       "    .dataframe tbody tr th:only-of-type {\n",
       "        vertical-align: middle;\n",
       "    }\n",
       "\n",
       "    .dataframe tbody tr th {\n",
       "        vertical-align: top;\n",
       "    }\n",
       "\n",
       "    .dataframe thead th {\n",
       "        text-align: right;\n",
       "    }\n",
       "</style>\n",
       "<table border=\"1\" class=\"dataframe\">\n",
       "  <thead>\n",
       "    <tr style=\"text-align: right;\">\n",
       "      <th></th>\n",
       "      <th>Predicted_rating</th>\n",
       "    </tr>\n",
       "  </thead>\n",
       "  <tbody>\n",
       "    <tr>\n",
       "      <th>0</th>\n",
       "      <td>4.107541</td>\n",
       "    </tr>\n",
       "    <tr>\n",
       "      <th>1</th>\n",
       "      <td>4.338244</td>\n",
       "    </tr>\n",
       "    <tr>\n",
       "      <th>2</th>\n",
       "      <td>4.322358</td>\n",
       "    </tr>\n",
       "    <tr>\n",
       "      <th>3</th>\n",
       "      <td>3.974246</td>\n",
       "    </tr>\n",
       "    <tr>\n",
       "      <th>4</th>\n",
       "      <td>4.461329</td>\n",
       "    </tr>\n",
       "    <tr>\n",
       "      <th>...</th>\n",
       "      <td>...</td>\n",
       "    </tr>\n",
       "    <tr>\n",
       "      <th>2166</th>\n",
       "      <td>4.302921</td>\n",
       "    </tr>\n",
       "    <tr>\n",
       "      <th>2167</th>\n",
       "      <td>4.179768</td>\n",
       "    </tr>\n",
       "    <tr>\n",
       "      <th>2168</th>\n",
       "      <td>4.509778</td>\n",
       "    </tr>\n",
       "    <tr>\n",
       "      <th>2169</th>\n",
       "      <td>4.274597</td>\n",
       "    </tr>\n",
       "    <tr>\n",
       "      <th>2170</th>\n",
       "      <td>4.574306</td>\n",
       "    </tr>\n",
       "  </tbody>\n",
       "</table>\n",
       "<p>2171 rows × 1 columns</p>\n",
       "</div>"
      ],
      "text/plain": [
       "      Predicted_rating\n",
       "0             4.107541\n",
       "1             4.338244\n",
       "2             4.322358\n",
       "3             3.974246\n",
       "4             4.461329\n",
       "...                ...\n",
       "2166          4.302921\n",
       "2167          4.179768\n",
       "2168          4.509778\n",
       "2169          4.274597\n",
       "2170          4.574306\n",
       "\n",
       "[2171 rows x 1 columns]"
      ]
     },
     "execution_count": 52,
     "metadata": {},
     "output_type": "execute_result"
    }
   ],
   "source": [
    "predicted_rating = pd.DataFrame(R2.predict(x_test),columns=['Predicted_rating'])\n",
    "predicted_rating"
   ]
  },
  {
   "cell_type": "code",
   "execution_count": 53,
   "id": "e6799534",
   "metadata": {},
   "outputs": [],
   "source": [
    "df_test = pd.concat([x_test.reset_index(drop=True),y_test.reset_index(drop=True),predicted_rating],axis=1)\n"
   ]
  },
  {
   "cell_type": "markdown",
   "id": "80996cd4",
   "metadata": {},
   "source": [
    "Accuracy of the model"
   ]
  },
  {
   "cell_type": "code",
   "execution_count": 54,
   "id": "85e5ad8b",
   "metadata": {},
   "outputs": [],
   "source": [
    "df_test['err_pct'] = abs(df_test.Rating-df_test.Predicted_rating)/df_test.Rating\n"
   ]
  },
  {
   "cell_type": "code",
   "execution_count": 56,
   "id": "40a37a95",
   "metadata": {},
   "outputs": [
    {
     "name": "stdout",
     "output_type": "stream",
     "text": [
      "Error in the model:  0.10070762161473633\n",
      "Accuracy of the model:  0.8992923783852637\n",
      "R Square value:  0.13149723011094483\n"
     ]
    }
   ],
   "source": [
    "error = df_test.err_pct.mean()\n",
    "print('Error in the model: ',error)\n",
    "Accuracy = 1- df_test.err_pct.mean()\n",
    "print('Accuracy of the model: ',Accuracy)\n",
    "rsq = r2_score(df_test.Rating,df_test.Predicted_rating)\n",
    "print('R Square value: ',rsq)"
   ]
  },
  {
   "cell_type": "markdown",
   "id": "46563d68",
   "metadata": {},
   "source": [
    "Accuracy of the model is 89.9% \n",
    "R2 value is 13% which is less.which means the model explains some of the variation in the response variable around its mean."
   ]
  },
  {
   "cell_type": "code",
   "execution_count": null,
   "id": "36fb0a80",
   "metadata": {},
   "outputs": [],
   "source": []
  },
  {
   "cell_type": "code",
   "execution_count": null,
   "id": "8abb1312",
   "metadata": {},
   "outputs": [],
   "source": []
  },
  {
   "cell_type": "code",
   "execution_count": null,
   "id": "0f531ca7",
   "metadata": {},
   "outputs": [],
   "source": []
  },
  {
   "cell_type": "code",
   "execution_count": null,
   "id": "6b28048e",
   "metadata": {},
   "outputs": [],
   "source": []
  }
 ],
 "metadata": {
  "kernelspec": {
   "display_name": "Python 3 (ipykernel)",
   "language": "python",
   "name": "python3"
  },
  "language_info": {
   "codemirror_mode": {
    "name": "ipython",
    "version": 3
   },
   "file_extension": ".py",
   "mimetype": "text/x-python",
   "name": "python",
   "nbconvert_exporter": "python",
   "pygments_lexer": "ipython3",
   "version": "3.9.7"
  }
 },
 "nbformat": 4,
 "nbformat_minor": 5
}
